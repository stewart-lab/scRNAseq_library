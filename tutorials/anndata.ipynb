{
 "cells": [
  {
   "cell_type": "code",
   "execution_count": null,
   "metadata": {},
   "outputs": [],
   "source": []
  },
  {
   "cell_type": "code",
   "execution_count": 2,
   "metadata": {},
   "outputs": [],
   "source": [
    "import scanpy as sc\n",
    "import pandas as pd\n",
    "import os\n",
    "\n",
    "# Plotting\n",
    "import matplotlib\n",
    "import matplotlib.pyplot as plt\n",
    "\n",
    "# warnings\n",
    "import warnings\n",
    "from numba.core.errors import NumbaDeprecationWarning\n",
    "\n",
    "warnings.filterwarnings(action=\"ignore\", category=NumbaDeprecationWarning)\n",
    "warnings.filterwarnings(\n",
    "    action=\"ignore\", module=\"scanpy\", message=\"No data for colormapping\"\n",
    ")\n",
    "\n",
    "# Inline plotting\n",
    "%matplotlib inline\n",
    "\n",
    "# variables\n",
    "DATA_DIR = \"/w5home/bmoore/scRNAseq/GAMM/human_data/cowan_cell_2020/\" # \"/Users/bmoore/Desktop/scRNAseq/GAMM/GAMM_S2/output_20230830_155530/\"\n",
    "ADATA_FILE = \"adata_final_clean_organoid.h5ad\" # \"gamms2_clustifyr.h5ad\" \"gamms2_cca_pred.h5ad\""
   ]
  },
  {
   "cell_type": "code",
   "execution_count": 3,
   "metadata": {},
   "outputs": [
    {
     "data": {
      "text/plain": [
       "AnnData object with n_obs × n_vars = 43857 × 57118\n",
       "    obs: 'cell_type_group', 'infomap_cluster', 'n_counts', 'region', 'source', 'cell_type', 'cell_id', 'condition', 'dataset', 'filtered_out_cells', 'tissue', 'ega_sample_alias', 'age_weeks'\n",
       "    var: 'gene', 'highly_variable'\n",
       "    uns: 'cluster_name_colors', 'log1p', 'region_colors', 'source_colors'\n",
       "    obsm: 'X_umap'"
      ]
     },
     "execution_count": 3,
     "metadata": {},
     "output_type": "execute_result"
    }
   ],
   "source": [
    "# load data\n",
    "## note- data was previously converted from seurat object to anndata object\n",
    "\n",
    "data_dir = os.path.expanduser(DATA_DIR)\n",
    "adata = sc.read_h5ad(data_dir + ADATA_FILE)\n",
    "adata"
   ]
  },
  {
   "cell_type": "code",
   "execution_count": 8,
   "metadata": {},
   "outputs": [
    {
     "data": {
      "text/plain": [
       "source\n",
       "imr90    23756\n",
       "f49b7    20101\n",
       "Name: count, dtype: int64"
      ]
     },
     "execution_count": 8,
     "metadata": {},
     "output_type": "execute_result"
    }
   ],
   "source": [
    "adata.obs[\"cell_type\"].value_counts()\n",
    "adata.obs[\"cell_type_group\"].value_counts()\n",
    "adata.obs[\"age_weeks\"].value_counts()\n",
    "adata.obs[\"cell_id\"].value_counts()\n",
    "adata.obs[\"source\"].value_counts()"
   ]
  },
  {
   "cell_type": "code",
   "execution_count": 4,
   "metadata": {},
   "outputs": [
    {
     "name": "stderr",
     "output_type": "stream",
     "text": [
      "/tmp/ipykernel_38011/4156019362.py:2: FutureWarning: The default of observed=False is deprecated and will be changed to True in a future version of pandas. Pass observed=False to retain current behavior or observed=True to adopt the future default and silence this warning.\n",
      "  adata.obs.groupby(\"age_weeks\")[\"source\"].value_counts()\n",
      "/tmp/ipykernel_38011/4156019362.py:3: FutureWarning: The default of observed=False is deprecated and will be changed to True in a future version of pandas. Pass observed=False to retain current behavior or observed=True to adopt the future default and silence this warning.\n",
      "  adata.obs.groupby(\"age_weeks\")[\"cell_type_group\"].value_counts()\n"
     ]
    },
    {
     "data": {
      "text/plain": [
       "age_weeks  cell_type_group\n",
       "30         cone               8357\n",
       "           rod                8129\n",
       "           macroglia          4787\n",
       "           bipolar            1484\n",
       "           horizontal         1291\n",
       "           amacrine            969\n",
       "           pigmented            10\n",
       "38         macroglia          5810\n",
       "           rod                5784\n",
       "           cone               4616\n",
       "           bipolar            1335\n",
       "           horizontal          687\n",
       "           amacrine            478\n",
       "           pigmented           120\n",
       "Name: count, dtype: int64"
      ]
     },
     "execution_count": 4,
     "metadata": {},
     "output_type": "execute_result"
    }
   ],
   "source": [
    "adata.obs[\"age_weeks\"].value_counts()\n",
    "adata.obs.groupby(\"age_weeks\")[\"source\"].value_counts()\n",
    "adata.obs.groupby(\"age_weeks\")[\"cell_type_group\"].value_counts()"
   ]
  },
  {
   "cell_type": "code",
   "execution_count": 13,
   "metadata": {},
   "outputs": [],
   "source": [
    "adata.obs.to_csv(data_dir+\"cowan_cell_2020_metadata.txt\", sep='\\t', header=True, index=True)"
   ]
  }
 ],
 "metadata": {
  "kernelspec": {
   "display_name": "pst_env",
   "language": "python",
   "name": "python3"
  },
  "language_info": {
   "codemirror_mode": {
    "name": "ipython",
    "version": 3
   },
   "file_extension": ".py",
   "mimetype": "text/x-python",
   "name": "python",
   "nbconvert_exporter": "python",
   "pygments_lexer": "ipython3",
   "version": "3.10.10"
  }
 },
 "nbformat": 4,
 "nbformat_minor": 2
}
